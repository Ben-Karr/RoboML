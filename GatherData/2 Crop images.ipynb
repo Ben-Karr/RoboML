{
 "cells": [
  {
   "cell_type": "code",
   "execution_count": 1,
   "metadata": {},
   "outputs": [],
   "source": [
    "import pandas as pd\n",
    "import numpy as np\n",
    "\n",
    "import cv2\n",
    "import matplotlib.pyplot as plt\n",
    "import matplotlib as mpl\n",
    "\n",
    "from pathlib import Path\n",
    "from fastai.vision.all import get_image_files"
   ]
  },
  {
   "cell_type": "code",
   "execution_count": 2,
   "metadata": {},
   "outputs": [],
   "source": [
    "df = pd.read_csv('data/led_new_meta.csv', index_col = 0)"
   ]
  },
  {
   "cell_type": "code",
   "execution_count": 3,
   "metadata": {},
   "outputs": [
    {
     "data": {
      "text/html": [
       "<div>\n",
       "<style scoped>\n",
       "    .dataframe tbody tr th:only-of-type {\n",
       "        vertical-align: middle;\n",
       "    }\n",
       "\n",
       "    .dataframe tbody tr th {\n",
       "        vertical-align: top;\n",
       "    }\n",
       "\n",
       "    .dataframe thead th {\n",
       "        text-align: right;\n",
       "    }\n",
       "</style>\n",
       "<table border=\"1\" class=\"dataframe\">\n",
       "  <thead>\n",
       "    <tr style=\"text-align: right;\">\n",
       "      <th></th>\n",
       "      <th>fname</th>\n",
       "      <th>y1</th>\n",
       "      <th>y2</th>\n",
       "      <th>x1</th>\n",
       "      <th>x2</th>\n",
       "      <th>project</th>\n",
       "      <th>label</th>\n",
       "      <th>background</th>\n",
       "      <th>angle</th>\n",
       "      <th>orientation</th>\n",
       "      <th>groups</th>\n",
       "      <th>usability</th>\n",
       "    </tr>\n",
       "  </thead>\n",
       "  <tbody>\n",
       "    <tr>\n",
       "      <th>0</th>\n",
       "      <td>LED_correct_beige2_01.JPG</td>\n",
       "      <td>130.574267</td>\n",
       "      <td>2941.606525</td>\n",
       "      <td>734.228959</td>\n",
       "      <td>5231.880572</td>\n",
       "      <td>LED</td>\n",
       "      <td>correct</td>\n",
       "      <td>beige2</td>\n",
       "      <td>side</td>\n",
       "      <td>R</td>\n",
       "      <td>29</td>\n",
       "      <td>not_ok</td>\n",
       "    </tr>\n",
       "    <tr>\n",
       "      <th>1</th>\n",
       "      <td>LED_correct_beige2_02.JPG</td>\n",
       "      <td>311.542009</td>\n",
       "      <td>3050.187170</td>\n",
       "      <td>854.874120</td>\n",
       "      <td>5236.706378</td>\n",
       "      <td>LED</td>\n",
       "      <td>correct</td>\n",
       "      <td>beige2</td>\n",
       "      <td>top</td>\n",
       "      <td>R</td>\n",
       "      <td>29</td>\n",
       "      <td>not_ok</td>\n",
       "    </tr>\n",
       "    <tr>\n",
       "      <th>2</th>\n",
       "      <td>LED_correct_beige2_03.JPG</td>\n",
       "      <td>58.187170</td>\n",
       "      <td>2917.477493</td>\n",
       "      <td>828.332184</td>\n",
       "      <td>5403.196701</td>\n",
       "      <td>LED</td>\n",
       "      <td>correct</td>\n",
       "      <td>beige2</td>\n",
       "      <td>side</td>\n",
       "      <td>L</td>\n",
       "      <td>29</td>\n",
       "      <td>ok</td>\n",
       "    </tr>\n",
       "    <tr>\n",
       "      <th>3</th>\n",
       "      <td>LED_correct_beige2_04.JPG</td>\n",
       "      <td>420.122654</td>\n",
       "      <td>3038.122654</td>\n",
       "      <td>707.687023</td>\n",
       "      <td>4896.487023</td>\n",
       "      <td>LED</td>\n",
       "      <td>correct</td>\n",
       "      <td>beige2</td>\n",
       "      <td>top</td>\n",
       "      <td>L</td>\n",
       "      <td>29</td>\n",
       "      <td>ok</td>\n",
       "    </tr>\n",
       "    <tr>\n",
       "      <th>4</th>\n",
       "      <td>LED_correct_beige2_05.JPG</td>\n",
       "      <td>58.187170</td>\n",
       "      <td>3170.832332</td>\n",
       "      <td>97.222507</td>\n",
       "      <td>5077.454765</td>\n",
       "      <td>LED</td>\n",
       "      <td>correct</td>\n",
       "      <td>beige2</td>\n",
       "      <td>side</td>\n",
       "      <td>L</td>\n",
       "      <td>30</td>\n",
       "      <td>not_ok</td>\n",
       "    </tr>\n",
       "  </tbody>\n",
       "</table>\n",
       "</div>"
      ],
      "text/plain": [
       "                       fname          y1           y2          x1  \\\n",
       "0  LED_correct_beige2_01.JPG  130.574267  2941.606525  734.228959   \n",
       "1  LED_correct_beige2_02.JPG  311.542009  3050.187170  854.874120   \n",
       "2  LED_correct_beige2_03.JPG   58.187170  2917.477493  828.332184   \n",
       "3  LED_correct_beige2_04.JPG  420.122654  3038.122654  707.687023   \n",
       "4  LED_correct_beige2_05.JPG   58.187170  3170.832332   97.222507   \n",
       "\n",
       "            x2 project    label background angle orientation  groups usability  \n",
       "0  5231.880572     LED  correct     beige2  side           R      29    not_ok  \n",
       "1  5236.706378     LED  correct     beige2   top           R      29    not_ok  \n",
       "2  5403.196701     LED  correct     beige2  side           L      29        ok  \n",
       "3  4896.487023     LED  correct     beige2   top           L      29        ok  \n",
       "4  5077.454765     LED  correct     beige2  side           L      30    not_ok  "
      ]
     },
     "execution_count": 3,
     "metadata": {},
     "output_type": "execute_result"
    }
   ],
   "source": [
    "df.head()"
   ]
  },
  {
   "cell_type": "code",
   "execution_count": 4,
   "metadata": {},
   "outputs": [],
   "source": [
    "project = 'neu'\n",
    "\n",
    "src_path = Path('data/pic/src/orig/') / project\n",
    "fnames = get_image_files(src_path)\n",
    "\n",
    "out_path = Path('data/pic/crop/') / project\n",
    "out_path.mkdir(exist_ok = True)\n",
    "\n",
    "assert(src_path != out_path)"
   ]
  },
  {
   "cell_type": "code",
   "execution_count": 5,
   "metadata": {},
   "outputs": [
    {
     "name": "stdout",
     "output_type": "stream",
     "text": [
      "100.0%"
     ]
    }
   ],
   "source": [
    "fails = 0\n",
    "for i,fn in enumerate(fnames):\n",
    "    n = fn.name\n",
    "    im = plt.imread(fn)\n",
    "    try:\n",
    "        y1, y2, x1, x2 = df[df.fname == n][['y1','y2','x1','x2']].values[0].astype(int)\n",
    "    except:\n",
    "        print('\\r{0:3.1f}%'.format((i+1)*100 / len(fnames)), end = '')\n",
    "        fails += 1\n",
    "        continue\n",
    "    im_cr = im[y1:y2, x1:x2,:]\n",
    "    plt.imsave(out_path / n, im_cr)\n",
    "    print('\\r{0:3.1f}%'.format((i+1)*100 / len(fnames)), end = '')"
   ]
  },
  {
   "cell_type": "code",
   "execution_count": null,
   "metadata": {},
   "outputs": [],
   "source": []
  }
 ],
 "metadata": {
  "kernelspec": {
   "display_name": "fastai2",
   "language": "python",
   "name": "fastai2"
  },
  "language_info": {
   "codemirror_mode": {
    "name": "ipython",
    "version": 3
   },
   "file_extension": ".py",
   "mimetype": "text/x-python",
   "name": "python",
   "nbconvert_exporter": "python",
   "pygments_lexer": "ipython3",
   "version": "3.8.5"
  }
 },
 "nbformat": 4,
 "nbformat_minor": 4
}
