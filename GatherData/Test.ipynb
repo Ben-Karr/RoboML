{
 "cells": [
  {
   "cell_type": "code",
   "execution_count": 5,
   "metadata": {},
   "outputs": [],
   "source": [
    "airports = [\"BGI\", \"CDG\", \"DEL\", \"DOH\", \"DSM\", \"EWR\", \"EYW\", \"HND\", \"ICN\", \"JFK\", \"LGA\", \"LHR\", \"ORD\", \"SAN\", \n",
    "            \"SFO\", \"SIN\", \"TLV\", \"BUD\"\n",
    "           ]\n",
    "\n",
    "routes = [\n",
    "    [\"DSM\", \"ORD\"],\n",
    "    [\"ORD\", \"BGI\"],\n",
    "    [\"BGI\", \"LGA\"],\n",
    "    [\"SIN\", \"CDG\"],\n",
    "    [\"CDG\", \"SIN\"],\n",
    "    [\"CDG\", \"BUD\"],\n",
    "    [\"DEL\", \"DOH\"],\n",
    "    [\"DEL\", \"CDG\"],\n",
    "    [\"TLV\", \"DEL\"],\n",
    "    [\"EWR\", \"HND\"],\n",
    "    [\"HND\", \"ICN\"],\n",
    "    [\"HND\", \"JFK\"],\n",
    "    [\"ICN\", \"JFK\"],\n",
    "    [\"JFK\", \"LGA\"],\n",
    "    [\"EYW\", \"LHR\"],\n",
    "    [\"LHR\", \"SFO\"],\n",
    "    [\"SFO\", \"SAN\"],\n",
    "    [\"SFO\", \"DSM\"],\n",
    "    [\"SAN\", \"EYW\"]\n",
    "    ]\n",
    "\n",
    "startAirport = \"LGA\""
   ]
  }
 ],
 "metadata": {
  "kernelspec": {
   "display_name": "Python 3",
   "language": "python",
   "name": "python3"
  },
  "language_info": {
   "codemirror_mode": {
    "name": "ipython",
    "version": 3
   },
   "file_extension": ".py",
   "mimetype": "text/x-python",
   "name": "python",
   "nbconvert_exporter": "python",
   "pygments_lexer": "ipython3",
   "version": "3.8.5"
  }
 },
 "nbformat": 4,
 "nbformat_minor": 4
}
